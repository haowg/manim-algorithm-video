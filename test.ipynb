{
 "cells": [
  {
   "cell_type": "code",
   "execution_count": 2,
   "id": "eec7b7ff-27f5-4d63-b34a-883476d41cde",
   "metadata": {},
   "outputs": [],
   "source": [
    "from manim import *"
   ]
  },
  {
   "cell_type": "code",
   "execution_count": 2,
   "id": "5590bc19-76c1-47f2-b730-d0a3699f3026",
   "metadata": {},
   "outputs": [
    {
     "name": "stdout",
     "output_type": "stream",
     "text": [
      "Usage: manim [OPTIONS] COMMAND [ARGS]...\n",
      "\n",
      "  Animation engine for explanatory math videos.\n",
      "\n",
      "Options:\n",
      "  --version                      Show version and exit.\n",
      "  --show-splash / --hide-splash  Print splash message with version information.\n",
      "  --help                         Show this message and exit.\n",
      "\n",
      "Commands:\n",
      "  cfg          Manages Manim configuration files.\n",
      "  checkhealth  This subcommand checks whether Manim is installed correctly...\n",
      "  init         Create a new project or insert a new scene.\n",
      "  plugins      Manages Manim plugins.\n",
      "  render       Render SCENE(S) from the input FILE.\n",
      "\n",
      "See 'manim <command>' to read about a specific subcommand.\n",
      "\n",
      "Note: the subcommand 'manim render' is called if no other subcommand is\n",
      "specified. Run 'manim render --help' if you would like to know what the '-ql' or\n",
      "'-p' flags do, for example.\n",
      "\n",
      "Made with <3 by Manim Community developers.\n"
     ]
    }
   ],
   "source": []
  },
  {
   "cell_type": "code",
   "execution_count": 4,
   "id": "81cffec7",
   "metadata": {},
   "outputs": [
    {
     "name": "stdout",
     "output_type": "stream",
     "text": [
      "No sorting algorithm specified.\n",
      "Available sorts:\n",
      "  bubble_sort\n",
      "  heap_sort\n",
      "  insertion_sort\n",
      "  merge_sort\n",
      "  quick_sort\n",
      "  selection_sort\n",
      "  shell_sort\n",
      "\n",
      "Use \"python render.py all\" to render all sorts, or specify sorts like \"python render.py bubble_sort\"\n"
     ]
    }
   ],
   "source": [
    "!python render.py"
   ]
  }
 ],
 "metadata": {
  "kernelspec": {
   "display_name": "my-manim-environment",
   "language": "python",
   "name": "python3"
  },
  "language_info": {
   "codemirror_mode": {
    "name": "ipython",
    "version": 3
   },
   "file_extension": ".py",
   "mimetype": "text/x-python",
   "name": "python",
   "nbconvert_exporter": "python",
   "pygments_lexer": "ipython3",
   "version": "3.10.16"
  }
 },
 "nbformat": 4,
 "nbformat_minor": 5
}
