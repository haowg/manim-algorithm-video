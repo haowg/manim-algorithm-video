{
 "cells": [
  {
   "cell_type": "code",
   "execution_count": 2,
   "id": "eec7b7ff-27f5-4d63-b34a-883476d41cde",
   "metadata": {},
   "outputs": [],
   "source": [
    "from manim import *"
   ]
  },
  {
   "cell_type": "code",
   "execution_count": 2,
   "id": "5590bc19-76c1-47f2-b730-d0a3699f3026",
   "metadata": {},
   "outputs": [
    {
     "name": "stdout",
     "output_type": "stream",
     "text": [
      "Usage: manim [OPTIONS] COMMAND [ARGS]...\n",
      "\n",
      "  Animation engine for explanatory math videos.\n",
      "\n",
      "Options:\n",
      "  --version                      Show version and exit.\n",
      "  --show-splash / --hide-splash  Print splash message with version information.\n",
      "  --help                         Show this message and exit.\n",
      "\n",
      "Commands:\n",
      "  cfg          Manages Manim configuration files.\n",
      "  checkhealth  This subcommand checks whether Manim is installed correctly...\n",
      "  init         Create a new project or insert a new scene.\n",
      "  plugins      Manages Manim plugins.\n",
      "  render       Render SCENE(S) from the input FILE.\n",
      "\n",
      "See 'manim <command>' to read about a specific subcommand.\n",
      "\n",
      "Note: the subcommand 'manim render' is called if no other subcommand is\n",
      "specified. Run 'manim render --help' if you would like to know what the '-ql' or\n",
      "'-p' flags do, for example.\n",
      "\n",
      "Made with <3 by Manim Community developers.\n"
     ]
    }
   ],
   "source": [
    "%manim --help"
   ]
  },
  {
   "cell_type": "code",
   "execution_count": 19,
   "id": "7631455a-e750-46e4-83b3-b0142a620e6a",
   "metadata": {},
   "outputs": [
    {
     "data": {
      "text/html": [
       "<pre style=\"white-space:pre;overflow-x:auto;line-height:normal;font-family:Menlo,'DejaVu Sans Mono',consolas,'Courier New',monospace\">Manim Community <span style=\"color: #008000; text-decoration-color: #008000\">v0.18.1</span>\n",
       "\n",
       "</pre>\n"
      ],
      "text/plain": [
       "Manim Community \u001b[32mv0.\u001b[0m\u001b[32m18.1\u001b[0m\n",
       "\n"
      ]
     },
     "metadata": {},
     "output_type": "display_data"
    },
    {
     "name": "stderr",
     "output_type": "stream",
     "text": [
      "                                                                                           \r"
     ]
    },
    {
     "data": {
      "text/html": [
       "<video src=\"media/jupyter/BubbleSort@2025-01-01@16-16-44.mp4\" controls autoplay loop style=\"max-width: 60%;\"  >\n",
       "      Your browser does not support the <code>video</code> element.\n",
       "    </video>"
      ],
      "text/plain": [
       "<IPython.core.display.Video object>"
      ]
     },
     "metadata": {},
     "output_type": "display_data"
    }
   ],
   "source": [
    "%%manim -qm -v WARNING BubbleSort\n",
    "\n",
    "class BubbleSort(Scene):\n",
    "    def construct(self):\n",
    "        # 定义一个简单的数字列表\n",
    "        numbers = [6, 1, 2]\n",
    "        \n",
    "        # 创建数字对象，并设置初始颜色为白色\n",
    "        num_objects = [Text(str(num), font_size=48).set_color(WHITE) for num in numbers]\n",
    "        \n",
    "        # 使用 VGroup 将数字对象组合，并排列在一行内，避免重叠\n",
    "        nums_group = VGroup(*num_objects).arrange(RIGHT, buff=0.5)\n",
    "        \n",
    "        # title\n",
    "        title = Text(\"冒泡排序\", font_size=54, color=GREEN).to_edge(UP)\n",
    "        self.play(Write(title))\n",
    "\n",
    "        # 将数字对象添加到场景中\n",
    "        self.play(Write(nums_group))\n",
    "        self.wait(1)\n",
    "\n",
    "        # 创建一个用于显示注释的文本对象\n",
    "        annotation = Text(\"\", font_size=24).to_edge(DOWN)\n",
    "        self.play(Write(annotation))\n",
    "        self.wait(0.5)\n",
    "\n",
    "        # 冒泡排序的动画\n",
    "        for i in range(len(numbers) - 1):\n",
    "            for j in range(len(numbers) - i - 1):\n",
    "                # 更新注释，说明当前正在比较的两个数字\n",
    "                annotation_text = f\"比较: {numbers[j]} 和 {numbers[j+1]}\"\n",
    "                # self.play(Write(Text(annotation_text, font_size=24).to_edge(DOWN)))\n",
    "                self.remove(annotation)\n",
    "                annotation = Text(annotation_text, font_size=44).move_to(DOWN * 0.9)\n",
    "                self.play(Write(annotation))\n",
    "\n",
    "                # 高亮显示正在比较的两个数字\n",
    "                self.highlight_swap(num_objects, j, j+1)\n",
    "\n",
    "                if numbers[j] > numbers[j+1]:\n",
    "                    # 如果顺序错误，交换数字\n",
    "\n",
    "\n",
    "                    # 更新注释，说明发生了交换\n",
    "                    annotation_text = f\"交换: {numbers[j]} 和 {numbers[j+1]}\"\n",
    "                    self.remove(annotation)\n",
    "                    annotation = Text(annotation_text, font_size=44).move_to(DOWN * 0.9)\n",
    "                    self.play(Write(annotation))\n",
    "                    # 更新数据\n",
    "                    numbers[j], numbers[j+1] = numbers[j+1], numbers[j]\n",
    "                    # 更新动画\n",
    "                    self.swap(num_objects, j, j+1)\n",
    "                else:\n",
    "                    # 如果不需要交换，更新注释为无需交换\n",
    "                    annotation_text = \"无需交换\"\n",
    "                    self.remove(annotation)\n",
    "                    annotation = Text(annotation_text, font_size=44).move_to(DOWN * 0.9)\n",
    "                    self.play(Write(annotation))\n",
    "                    \n",
    "                self.wait(0.5)\n",
    "\n",
    "                self.remove_highlight(num_objects, j, j+1)\n",
    "\n",
    "        \n",
    "        # 排序完成的注释\n",
    "        final_annotation = Text(\"排序完成！\", font_size=54, color=GREEN).move_to(DOWN * 0.9)\n",
    "        self.play(Transform(annotation, final_annotation))\n",
    "        self.wait(4)\n",
    "    \n",
    "    def highlight_swap(self, num_objects, i, j):\n",
    "        \"\"\"\n",
    "        高亮显示正在比较的两个数字，并在比较后恢复颜色。\n",
    "        \"\"\"\n",
    "        # 将正在比较的两个数字设置为红色\n",
    "        self.play(\n",
    "            num_objects[i].animate.set_color(RED),\n",
    "            num_objects[j].animate.set_color(RED),\n",
    "            run_time=0.3\n",
    "        )\n",
    "        self.wait(0.5)\n",
    "\n",
    "    def remove_highlight(self, num_objects, i, j):\n",
    "        \n",
    "        # 比较后将颜色恢复为白色\n",
    "        self.play(\n",
    "            num_objects[i].animate.set_color(WHITE),\n",
    "            num_objects[j].animate.set_color(WHITE),\n",
    "            run_time=0.5\n",
    "        )\n",
    "    \n",
    "    def swap(self, num_objects, i, j):\n",
    "        \"\"\"\n",
    "        交换两个数字的位置，并在动画中移动它们。\n",
    "        \"\"\"\n",
    "        # 生成目标位置\n",
    "        num_objects[i].generate_target()\n",
    "        num_objects[j].generate_target()\n",
    "        \n",
    "        # 目标位置互换\n",
    "        num_objects[i].target.move_to(num_objects[j].get_center())\n",
    "        num_objects[j].target.move_to(num_objects[i].get_center())\n",
    "        \n",
    "        # 执行动画，将数字移动到目标位置\n",
    "        self.play(\n",
    "            MoveToTarget(num_objects[i]),\n",
    "            MoveToTarget(num_objects[j]),\n",
    "            run_time=0.5\n",
    "        )\n",
    "        \n",
    "        # 交换 num_objects 列表中的对象顺序\n",
    "        num_objects[i], num_objects[j] = num_objects[j], num_objects[i]"
   ]
  },
  {
   "cell_type": "code",
   "execution_count": 18,
   "id": "d1efc571-771d-4291-8a3c-5eb63a0c2d8a",
   "metadata": {},
   "outputs": [
    {
     "data": {
      "text/html": [
       "<pre style=\"white-space:pre;overflow-x:auto;line-height:normal;font-family:Menlo,'DejaVu Sans Mono',consolas,'Courier New',monospace\">Manim Community <span style=\"color: #008000; text-decoration-color: #008000\">v0.18.1</span>\n",
       "\n",
       "</pre>\n"
      ],
      "text/plain": [
       "Manim Community \u001b[32mv0.\u001b[0m\u001b[32m18.1\u001b[0m\n",
       "\n"
      ]
     },
     "metadata": {},
     "output_type": "display_data"
    },
    {
     "name": "stderr",
     "output_type": "stream",
     "text": [
      "                                                                                             \r"
     ]
    },
    {
     "data": {
      "text/html": [
       "<video src=\"media/jupyter/BubbleSortWithCode2@2025-01-01@16-10-40.mp4\" controls autoplay loop style=\"max-width: 60%;\"  >\n",
       "      Your browser does not support the <code>video</code> element.\n",
       "    </video>"
      ],
      "text/plain": [
       "<IPython.core.display.Video object>"
      ]
     },
     "metadata": {},
     "output_type": "display_data"
    }
   ],
   "source": [
    "%%manim -qm -v WARNING BubbleSortWithCode2\n",
    "\n"
   ]
  },
  {
   "cell_type": "code",
   "execution_count": 29,
   "id": "9d6bd032",
   "metadata": {},
   "outputs": [
    {
     "data": {
      "text/html": [
       "<pre style=\"white-space:pre;overflow-x:auto;line-height:normal;font-family:Menlo,'DejaVu Sans Mono',consolas,'Courier New',monospace\">Manim Community <span style=\"color: #008000; text-decoration-color: #008000\">v0.18.1</span>\n",
       "\n",
       "</pre>\n"
      ],
      "text/plain": [
       "Manim Community \u001b[32mv0.\u001b[0m\u001b[32m18.1\u001b[0m\n",
       "\n"
      ]
     },
     "metadata": {},
     "output_type": "display_data"
    },
    {
     "name": "stderr",
     "output_type": "stream",
     "text": [
      "                                                                                    \r"
     ]
    },
    {
     "data": {
      "text/html": [
       "<video src=\"media/jupyter/BubbleSortWithCode2@2025-01-01@16-47-12.mp4\" controls autoplay loop style=\"max-width: 60%;\"  >\n",
       "      Your browser does not support the <code>video</code> element.\n",
       "    </video>"
      ],
      "text/plain": [
       "<IPython.core.display.Video object>"
      ]
     },
     "metadata": {},
     "output_type": "display_data"
    }
   ],
   "source": [
    "%%manim -qm -v WARNING BubbleSortWithCode2\n",
    "\n",
    "import sys\n",
    "sys.path.append('.')\n",
    "from bubblesorttest import BubbleSortWithCode2\n",
    "\n",
    "\n"
   ]
  },
  {
   "cell_type": "code",
   "execution_count": 4,
   "id": "7a581c91",
   "metadata": {},
   "outputs": [
    {
     "data": {
      "text/html": [
       "<pre style=\"white-space:pre;overflow-x:auto;line-height:normal;font-family:Menlo,'DejaVu Sans Mono',consolas,'Courier New',monospace\">Manim Community <span style=\"color: #008000; text-decoration-color: #008000\">v0.18.1</span>\n",
       "\n",
       "</pre>\n"
      ],
      "text/plain": [
       "Manim Community \u001b[32mv0.\u001b[0m\u001b[32m18.1\u001b[0m\n",
       "\n"
      ]
     },
     "metadata": {},
     "output_type": "display_data"
    },
    {
     "name": "stderr",
     "output_type": "stream",
     "text": [
      "                                                                                             \r"
     ]
    },
    {
     "ename": "IndentationError",
     "evalue": "unexpected indent (<string>, line 1)",
     "output_type": "error",
     "traceback": [
      "Traceback \u001b[0;36m(most recent call last)\u001b[0m:\n",
      "\u001b[0m  File \u001b[1;32m/opt/anaconda/envs/my-manim-environment/lib/python3.10/site-packages/IPython/core/interactiveshell.py:3577\u001b[0m in \u001b[1;35mrun_code\u001b[0m\n    exec(code_obj, self.user_global_ns, self.user_ns)\u001b[0m\n",
      "\u001b[0m  Cell \u001b[1;32mIn[4], line 1\u001b[0m\n    get_ipython().run_cell_magic('manim', '-qm -v WARNING DynamicSortScene', \"\\nimport sys\\nsys.path.append('.')\\nfrom manim import *\\nfrom bubblesorttest import DynamicSortScene\\n\")\u001b[0m\n",
      "\u001b[0m  File \u001b[1;32m/opt/anaconda/envs/my-manim-environment/lib/python3.10/site-packages/IPython/core/interactiveshell.py:2541\u001b[0m in \u001b[1;35mrun_cell_magic\u001b[0m\n    result = fn(*args, **kwargs)\u001b[0m\n",
      "\u001b[0m  File \u001b[1;32m/opt/anaconda/envs/my-manim-environment/lib/python3.10/site-packages/manim/utils/ipython_magic.py:143\u001b[0m in \u001b[1;35mmanim\u001b[0m\n    scene.render()\u001b[0m\n",
      "\u001b[0m  File \u001b[1;32m/opt/anaconda/envs/my-manim-environment/lib/python3.10/site-packages/manim/scene/scene.py:229\u001b[0m in \u001b[1;35mrender\u001b[0m\n    self.construct()\u001b[0m\n",
      "\u001b[0;36m  File \u001b[0;32m~/workspace/github/manim-algorithm-video/bubblesorttest.py:59\u001b[0;36m in \u001b[0;35mconstruct\u001b[0;36m\n\u001b[0;31m    exec(self.code_text, {}, local_namespace)\u001b[0;36m\n",
      "\u001b[0;36m  File \u001b[0;32m<string>:1\u001b[0;36m\u001b[0m\n\u001b[0;31m    def highlight_callback(line_number):\u001b[0m\n\u001b[0m    ^\u001b[0m\n\u001b[0;31mIndentationError\u001b[0m\u001b[0;31m:\u001b[0m unexpected indent\n"
     ]
    }
   ],
   "source": [
    "%%manim -qm -v WARNING DynamicSortScene\n",
    "\n",
    "import sys\n",
    "sys.path.append('.')\n",
    "from manim import *\n",
    "from bubblesorttest import DynamicSortScene\n"
   ]
  }
 ],
 "metadata": {
  "kernelspec": {
   "display_name": "my-manim-environment",
   "language": "python",
   "name": "python3"
  },
  "language_info": {
   "codemirror_mode": {
    "name": "ipython",
    "version": 3
   },
   "file_extension": ".py",
   "mimetype": "text/x-python",
   "name": "python",
   "nbconvert_exporter": "python",
   "pygments_lexer": "ipython3",
   "version": "3.10.16"
  }
 },
 "nbformat": 4,
 "nbformat_minor": 5
}
